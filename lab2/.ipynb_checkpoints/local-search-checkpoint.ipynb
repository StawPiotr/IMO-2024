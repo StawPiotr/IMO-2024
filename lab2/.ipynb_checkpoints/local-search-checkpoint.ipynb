{
 "cells": [
  {
   "cell_type": "markdown",
   "metadata": {},
   "source": [
    "# IMO - Zadanie 2\n",
    "\n",
    "Autorzy: Sławomir Gilewski, Dariusz Max Adamski\n",
    "\n",
    "---"
   ]
  },
  {
   "cell_type": "markdown",
   "metadata": {},
   "source": [
    "Imports:"
   ]
  },
  {
   "cell_type": "code",
   "execution_count": 1,
   "metadata": {},
   "outputs": [],
   "source": [
    "import pandas as pd\n",
    "import numpy as np\n",
    "import matplotlib.pyplot as plt\n",
    "import random\n",
    "import itertools\n",
    "import time\n",
    "import multiprocessing as mp\n",
    "from copy import deepcopy\n",
    "plt.rc('figure', dpi=110, figsize=(9, 5))"
   ]
  },
  {
   "cell_type": "markdown",
   "metadata": {},
   "source": [
    "Reading instance functions:"
   ]
  },
  {
   "cell_type": "code",
   "execution_count": 2,
   "metadata": {
    "scrolled": false
   },
   "outputs": [],
   "source": [
    "def distance(a, b):\n",
    "    return np.round(np.sqrt(np.sum((a - b)**2)))\n",
    "\n",
    "def read_instance(path):\n",
    "    coords = pd.read_csv(path, sep=' ', names=['n','x','y'], skiprows=6, skipfooter=1, engine='python')\n",
    "    cities = coords.drop(columns=['n']).values\n",
    "    ns = np.arange(len(cities))\n",
    "    cities = np.array([[distance(cities[i], cities[j]) for j in ns] for i in ns])\n",
    "    return cities, coords"
   ]
  },
  {
   "cell_type": "markdown",
   "metadata": {},
   "source": [
    "Drawing functions:"
   ]
  },
  {
   "cell_type": "code",
   "execution_count": 3,
   "metadata": {},
   "outputs": [],
   "source": [
    "def draw_path(coords, path, color='blue'):\n",
    "    cycle = path + [path[0]]\n",
    "    for i in range(len(cycle) - 1):\n",
    "        a, b = cycle[i], cycle[i+1]\n",
    "        plt.plot([coords.x[a], coords.x[b]], [coords.y[a], coords.y[b]], color=color)\n",
    "\n",
    "def plot_solution(coords, solution):\n",
    "    path1, path2 = solution\n",
    "    draw_path(coords, path1, color='green')\n",
    "    draw_path(coords, path2, color='red')\n",
    "    plt.scatter(coords.x, coords.y, color='black')\n",
    "    plt.show()"
   ]
  },
  {
   "cell_type": "markdown",
   "metadata": {},
   "source": [
    "Scoring functions:"
   ]
  },
  {
   "cell_type": "code",
   "execution_count": 4,
   "metadata": {},
   "outputs": [],
   "source": [
    "def cycle_score(cities, path):\n",
    "    cycle = path + [path[0]]\n",
    "    return sum(cities[cycle[i], cycle[i+1]] for i in range(len(cycle) - 1))\n",
    "\n",
    "def score(cities, paths):\n",
    "    return cycle_score(cities, paths[0]) + cycle_score(cities, paths[1])\n",
    "\n",
    "def delta_insert(cities, path, i, city):\n",
    "    a, b = path[i - 1], path[i]\n",
    "    return cities[a, city] + cities[city, b] - cities[a, b]\n",
    "\n"
   ]
  },
  {
   "cell_type": "markdown",
   "metadata": {},
   "source": [
    "Generating pairs of path indices for local search:"
   ]
  },
  {
   "cell_type": "code",
   "execution_count": null,
   "metadata": {},
   "outputs": [],
   "source": []
  },
  {
   "cell_type": "markdown",
   "metadata": {},
   "source": [
    "Replacing elements for local search (two cycles and one cycle):"
   ]
  },
  {
   "cell_type": "code",
   "execution_count": 5,
   "metadata": {},
   "outputs": [],
   "source": [
    "# Score difference after replacing element \"i\" of path with chosen city\n",
    "def delta_replace_vertex(cities, path, i, city):\n",
    "    path_len = len(path)\n",
    "    a, b, c = path[(i - 1)%path_len], path[i], path[(i+1)%path_len]\n",
    "    return cities[a, city] + cities[city, c] - cities[a, b] - cities[b, c]\n",
    "\n",
    "# Score difference after exchanging 2 vertices of 2 different paths on indices i and j\n",
    "def delta_replace_vertices_outside(cities, paths, i, j):\n",
    "    return delta_replace_vertex(cities, paths[0], i, paths[1][j]) + delta_replace_vertex(cities, paths[1], j, paths[0][i])\n",
    "\n",
    "# Score difference after exchanging 2 vertices of the same path on indices i and j\n",
    "def delta_replace_vertices_inside(cities, path, i, j):\n",
    "    path_len = len(path)\n",
    "    a, b, c = path[(i - 1)%path_len], path[i], path[(i+1)%path_len]\n",
    "    d, e, f = path[(j-1)%path_len], path[j], path[(j+1)%path_len]\n",
    "    if j-i == 1:\n",
    "        return cities[a,e]+cities[b,f]-cities[a,b]-cities[e,f]\n",
    "    elif (i, j) == (0, len(path)-1):\n",
    "        return cities[e, c] + cities[d, b] - cities[b, c] - cities[d, e]\n",
    "    else:\n",
    "        return cities[a,e] + cities[e,c] + cities[d,b] + cities[b,f] -cities[a,b]-cities[b,c]-cities[d,e] - cities[e,f] \n",
    "\n",
    "# Score difference after exchanging 2 elements of the same path on edges between i and j\n",
    "def delta_replace_edges_inside(cities, path, i, j):\n",
    "    path_len = len(path)\n",
    "    if (i, j) == (0, len(path)-1):\n",
    "        a, b, c, d = path[i], path[(i+1)%path_len], path[(j-1)%path_len], path[j]\n",
    "    else:\n",
    "        a, b, c, d = path[(i - 1)%path_len], path[i], path[j], path[(j+1)%path_len]\n",
    "    return cities[a, c] + cities[b, d] - cities[a, b] - cities[c, d]\n",
    "\n",
    "# generates indices for testing every pair of two paths\n",
    "def outside_candidates(paths):\n",
    "    indices = list(range(len(paths[0]))), list(range(len(paths[1])))\n",
    "    indices_pairwise = list(itertools.product(*indices))\n",
    "    return indices_pairwise\n",
    "\n",
    "# generates combinations of all pairs of one path\n",
    "def inside_candidates(path):\n",
    "    combinations = []\n",
    "    for i in range(len(path)):\n",
    "        for j in range(i+1, len(path)):\n",
    "            combinations.append([i, j])\n",
    "    return combinations\n",
    "\n",
    "def replace_vertices_outside(paths, i, j):\n",
    "    temp = paths[0][i]\n",
    "    paths[0][i] = paths[1][j]\n",
    "    paths[1][j] = temp\n",
    "\n",
    "def replace_vertices_inside(path, i, j):\n",
    "    temp = path[i]\n",
    "    path[i] = path[j]\n",
    "    path[j] = temp\n",
    "    \n",
    "def replace_edges_inside(path, i, j):\n",
    "    if (i, j) == (0, len(path)-1):\n",
    "        temp = path[i]\n",
    "        path[i] = path[j]\n",
    "        path[j] = temp     \n",
    "    path[i:j+1] = reversed(path[i:j+1])\n",
    "    \n",
    "class SteepestSearch(object):\n",
    "    def __init__(self, cities, variant):\n",
    "        self.variant = variant\n",
    "        if variant == \"vertices\":\n",
    "            self.delta = delta_replace_vertices_inside\n",
    "            self.replace = replace_vertices_inside\n",
    "        else:\n",
    "            self.delta = delta_replace_edges_inside\n",
    "            self.replace = replace_edges_inside\n",
    "        self.cities = cities\n",
    "        self.moves = [self.outside_vertices_trade_best, self.inside_trade_best]\n",
    "    \n",
    "    def outside_vertices_trade_best(self, cities, paths):\n",
    "        candidates = outside_candidates(paths)\n",
    "        scores = np.array([delta_replace_vertices_outside(cities, paths, i, j) for i, j in candidates])\n",
    "        best_result_idx = np.argmin(scores)\n",
    "        if scores[best_result_idx] < 0:\n",
    "            return replace_vertices_outside, (paths, *candidates[best_result_idx]), scores[best_result_idx]\n",
    "        return _, _, scores[best_result_idx]\n",
    "            \n",
    "    def inside_trade_best(self, cities, paths):\n",
    "        combinations = inside_candidates(paths[0]), inside_candidates(paths[1])\n",
    "        scores = np.array([[self.delta(cities, paths[idx], i, j) for i, j in combinations[idx]] for idx in range(len(paths))])\n",
    "        best_path_idx, best_combination = np.unravel_index(np.argmin(scores), scores.shape)\n",
    "        best_score = scores[best_path_idx, best_combination]\n",
    "        if best_score < 0:\n",
    "            return self.replace, (paths[best_path_idx], *combinations[best_path_idx][best_combination]), best_score\n",
    "        return _, _, best_score \n",
    "    \n",
    "    def __call__(self, paths):\n",
    "        paths = deepcopy(paths)\n",
    "        start = time.time()\n",
    "        while True:\n",
    "            replace_funs, args, scores = list(zip(*[move(self.cities, paths) for move in self.moves]))\n",
    "            best_score_idx = np.argmin(scores)\n",
    "            if scores[best_score_idx] < 0:\n",
    "                replace_funs[best_score_idx](*args[best_score_idx])\n",
    "            else:\n",
    "                break\n",
    "        return time.time()-start, paths"
   ]
  },
  {
   "cell_type": "markdown",
   "metadata": {},
   "source": [
    "Initial solvers:"
   ]
  },
  {
   "cell_type": "code",
   "execution_count": 6,
   "metadata": {},
   "outputs": [],
   "source": [
    "def solve_regret(args):\n",
    "    cities, start = args\n",
    "    n = cities.shape[0]\n",
    "    remaining = list(range(n))\n",
    "    a, b = start, np.argmax(cities[start,:])\n",
    "    remaining.remove(a)\n",
    "    remaining.remove(b)\n",
    "    paths = [[a], [b]]\n",
    "    while remaining:\n",
    "        for path in paths:\n",
    "            scores = np.array([[delta_insert(cities, path, i, v) for i in range(len(path))] for v in remaining])\n",
    "            best_city_idx = None\n",
    "            if scores.shape[1] == 1:\n",
    "                best_city_idx = np.argmin(scores)\n",
    "            else:\n",
    "                regret = np.diff(np.partition(scores, 1)[:,:2]).reshape(-1)\n",
    "                weight = regret - 0.37*np.min(scores, axis=1)\n",
    "                best_city_idx = np.argmax(weight)\n",
    "                \n",
    "            best_city = remaining[best_city_idx]\n",
    "            best_insert = np.argmin(scores[best_city_idx])\n",
    "            path.insert(best_insert, best_city)\n",
    "            remaining.remove(best_city)\n",
    "    return paths\n",
    "\n",
    "def solve_random(args):\n",
    "    cities, _ = args\n",
    "    n = cities.shape[0]\n",
    "    remaining = list(range(n))\n",
    "    random.seed()\n",
    "    random.shuffle(remaining)\n",
    "    paths = [remaining[:n//2], remaining[n//2:]]\n",
    "    return paths"
   ]
  },
  {
   "cell_type": "markdown",
   "metadata": {},
   "source": [
    "Greedy (first improvement) local search algorithm:"
   ]
  },
  {
   "cell_type": "code",
   "execution_count": 7,
   "metadata": {},
   "outputs": [],
   "source": [
    "class GreedySearch(object):\n",
    "    def __init__(self, cities, variant):\n",
    "        self.variant = variant\n",
    "        if variant == \"vertices\":\n",
    "            self.delta = delta_replace_vertices_inside\n",
    "            self.replace = replace_vertices_inside\n",
    "        else:\n",
    "            self.delta = delta_replace_edges_inside\n",
    "            self.replace = replace_edges_inside\n",
    "        self.cities = cities\n",
    "        self.moves = [self.outside_vertices_trade_first, self.inside_trade_first]\n",
    "    \n",
    "    def outside_vertices_trade_first(self, cities, paths):\n",
    "        random.seed()\n",
    "        candidates = outside_candidates(paths)\n",
    "        random.shuffle(candidates)\n",
    "        for i, j in candidates:\n",
    "            score_diff = delta_replace_vertices_outside(cities, paths, i, j)\n",
    "            if score_diff < 0:\n",
    "                replace_vertices_outside(paths, i, j)\n",
    "                return score_diff\n",
    "        return score_diff\n",
    "\n",
    "    def inside_trade_first(self, cities, paths):\n",
    "        random.seed()\n",
    "        path_order = random.sample(range(2), 2)\n",
    "        for idx in path_order:\n",
    "            candidates = inside_candidates(paths[idx])\n",
    "            random.shuffle(candidates)\n",
    "            for i, j in candidates:\n",
    "                score_diff = self.delta(cities, paths[idx], i, j)\n",
    "                if score_diff < 0:\n",
    "                    self.replace(paths[idx], i, j)\n",
    "                    return score_diff\n",
    "        return score_diff \n",
    "    \n",
    "    def __call__(self, paths):\n",
    "        paths = deepcopy(paths)\n",
    "        random.seed()\n",
    "        start = time.time()\n",
    "        while True:\n",
    "            move_order = random.sample(range(2), 2)\n",
    "            score = self.moves[move_order[0]](self.cities, paths)\n",
    "            if score >= 0: \n",
    "                score = self.moves[move_order[1]](self.cities, paths)\n",
    "                if score >= 0: \n",
    "                    break\n",
    "        return time.time()-start, paths"
   ]
  },
  {
   "cell_type": "markdown",
   "metadata": {},
   "source": [
    "Steepest (best improvement) local search algorithm:"
   ]
  },
  {
   "cell_type": "code",
   "execution_count": null,
   "metadata": {},
   "outputs": [],
   "source": []
  },
  {
   "cell_type": "markdown",
   "metadata": {},
   "source": [
    "Random search algorithm:"
   ]
  },
  {
   "cell_type": "code",
   "execution_count": 8,
   "metadata": {},
   "outputs": [],
   "source": [
    "class RandomSearch(object):\n",
    "    def __init__(self, cities, time_limit):\n",
    "        self.cities = cities\n",
    "        self.time_limit = time_limit\n",
    "        self.moves = [self.outside_vertices_trade, self.inside_trade_first_vertices, self.inside_trade_first_edges]\n",
    "        \n",
    "    def outside_vertices_trade(self, cities, paths):\n",
    "        random.seed()\n",
    "        candidates = outside_candidates(paths)\n",
    "        i, j = random.choice(candidates)\n",
    "        replace_vertices_outside(paths, i, j)\n",
    "\n",
    "    def inside_trade_first_vertices(self, cities, paths):\n",
    "        random.seed()\n",
    "        path_idx = random.choice([0,1])\n",
    "        candidates = inside_candidates(paths[path_idx])\n",
    "        i, j = random.choice(candidates)\n",
    "        replace_vertices_inside(paths[path_idx], i, j)\n",
    "        \n",
    "    def inside_trade_first_edges(self, cities, paths):\n",
    "        random.seed()\n",
    "        path_idx = random.choice([0,1])\n",
    "        candidates = inside_candidates(paths[path_idx])\n",
    "        i, j = random.choice(candidates)\n",
    "        replace_edges_inside(paths[path_idx], i, j)\n",
    "    \n",
    "    def __call__(self, paths):\n",
    "        best_solution = paths\n",
    "        best_score = score(self.cities, paths)\n",
    "        paths = deepcopy(paths)\n",
    "        random.seed()\n",
    "        start = time.time()\n",
    "        while time.time()-start < self.time_limit:\n",
    "            move = random.choice(self.moves)\n",
    "            move(self.cities, paths)\n",
    "            new_score = score(self.cities, paths)\n",
    "            if new_score<best_score:\n",
    "                best_solution = deepcopy(paths)\n",
    "                best_score = new_score\n",
    "        return best_solution"
   ]
  },
  {
   "cell_type": "code",
   "execution_count": 9,
   "metadata": {
    "scrolled": false
   },
   "outputs": [],
   "source": [
    "def show_results():\n",
    "    instances = ['kroA100.tsp', 'kroB100.tsp']\n",
    "    initial_solvers = [solve_random, solve_regret]\n",
    "    score_results = []\n",
    "    time_results = []\n",
    "    for file in instances:\n",
    "        cities, coords = read_instance(file)\n",
    "        local_variants = [GreedySearch(cities, \"vertices\"), SteepestSearch(cities, \"vertices\"), GreedySearch(cities, \"edges\"), SteepestSearch(cities, \"edges\")]\n",
    "        for solve in initial_solvers:\n",
    "            solutions = mp.Pool().map(solve, [(cities, i) for i in range(100)])\n",
    "            scores = [score(cities, x) for x in solutions]\n",
    "            score_results.append(dict(file=file, function=solve.__name__, search=\"none\", variant=\"none\", min=int(min(scores)), mean=int(np.mean(scores)), max=int(max(scores))))\n",
    "            best_idx = np.argmin(scores)\n",
    "            best = solutions[best_idx]\n",
    "            print(f'file: {file}, solver: {solve.__name__}, search: None, variant: None, score: {scores[best_idx]}')\n",
    "            plot_solution(coords, best)\n",
    "            for local_search in local_variants:\n",
    "                times, new_solutions = zip(*mp.Pool().map(local_search, solutions))\n",
    "                new_scores = [score(cities, x) for x in new_solutions]\n",
    "                best = new_solutions[best_idx]\n",
    "                print(f'file: {file}, solver: {solve.__name__}, search: {type(local_search).__name__}, variant: {local_search.variant}, score: {new_scores[best_idx]}')\n",
    "                plot_solution(coords, best)\n",
    "                score_results.append(dict(file=file, function=solve.__name__, search=type(local_search).__name__, variant=local_search.variant, min=int(min(new_scores)), mean=int(np.mean(new_scores)), max=int(max(new_scores))))\n",
    "                time_results.append(dict(file=file, function=solve.__name__, search=type(local_search).__name__,variant=local_search.variant, min=float(min(times)), mean=float(np.mean(times)), max=float(max(times))))\n",
    "            if solve.__name__ == \"solve_random\":\n",
    "                temp_pd = pd.DataFrame(time_results)\n",
    "                time_limit = max(temp_pd[temp_pd[\"file\"]==file][\"mean\"])\n",
    "                random_search = RandomSearch(cities, time_limit)\n",
    "                random_solutions = mp.Pool().map(random_search, solutions)\n",
    "                random_scores = [score(cities, x) for x in random_solutions]\n",
    "                best = random_solutions[best_idx]\n",
    "                print(f'file: {file}, solver: {solve.__name__}, search: {type(random_search).__name__}, score: {random_scores[best_idx]}')\n",
    "                plot_solution(coords, best)\n",
    "                score_results.append(dict(file=file, function=solve.__name__, search=type(random_search).__name__, variant=\"none\", min=int(min(random_scores)), mean=int(np.mean(random_scores)), max=int(max(random_scores))))\n",
    "    return pd.DataFrame(score_results), pd.DataFrame(time_results)"
   ]
  },
  {
   "cell_type": "code",
   "execution_count": null,
   "metadata": {
    "scrolled": false
   },
   "outputs": [],
   "source": [
    "scores, times = show_results()"
   ]
  },
  {
   "cell_type": "code",
   "execution_count": null,
   "metadata": {
    "scrolled": false
   },
   "outputs": [],
   "source": [
    "scores"
   ]
  },
  {
   "cell_type": "code",
   "execution_count": null,
   "metadata": {},
   "outputs": [],
   "source": [
    "times"
   ]
  }
 ],
 "metadata": {
  "kernelspec": {
   "display_name": "Python 3 (ipykernel)",
   "language": "python",
   "name": "python3"
  },
  "language_info": {
   "codemirror_mode": {
    "name": "ipython",
    "version": 3
   },
   "file_extension": ".py",
   "mimetype": "text/x-python",
   "name": "python",
   "nbconvert_exporter": "python",
   "pygments_lexer": "ipython3",
   "version": "3.11.3"
  }
 },
 "nbformat": 4,
 "nbformat_minor": 4
}
